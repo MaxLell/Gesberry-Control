{
 "cells": [
  {
   "cell_type": "markdown",
   "metadata": {},
   "source": [
    "# GesBerry Machine Learning\n",
    "\n",
    "\n",
    "This Jupyter notebook introduces the Signal Processing steps of the gesture recognition software. This notebook can be run independently from the Raspberry Pi. No further installations are necessary. Important to mention is that this is still in a prototypic state. The system works in its current state, but there are still many things that can be improved and this an ongoing project. If you have any suggestions or critique, please write me an email to maximilian.lell@gmail.com\n",
    "\n",
    "The data to evaluate the procedure is also provided: See folder data in the repository.\n",
    "\n",
    "This notebook is structured from a high-level approach to the low-level details. \n",
    "\n",
    "## Signalflow\n",
    "The following flowchart shows the signal flow for this notebook:\n",
    "\n",
    "<br/>\n",
    "\n",
    "<img src=\"img/flowchart_ATest.png\" width=\"600\">\n",
    "\n",
    "<br/>\n",
    "\n",
    "The following procedure is executed (steps have the same numbers as the grey boxes above):\n",
    "1. Get labeled dataset and split it into training and test set\n",
    "2. preprocess and learn from train data; afterwards put a decision boundary function out. The decision boundary function contains the knowledge of the classifier on how to relate the data to the gestures\n",
    "3. preprocess and classify the data. The preprocessing is the same as it is applied in the learning step. The labels are excluded and the classifier identifies the labels of the gestures\n",
    "4. Evaluate the classification results in 3 experiments:\n",
    "    - Confusion matrix\n",
    "    - Accuracy score\n",
    "    - k-fold crossvalidation score"
   ]
  },
  {
   "cell_type": "code",
   "execution_count": 1,
   "metadata": {},
   "outputs": [],
   "source": [
    "# imports\n",
    "import numpy as np\n",
    "import pandas as pd\n",
    "\n",
    "# 1. Data Structure\n",
    "import sys, os\n",
    "from sklearn.model_selection import train_test_split\n",
    "\n",
    "# 2. Preprocessing\n",
    "from scipy import signal\n",
    "from scipy.fftpack import fft\n",
    "from sklearn.preprocessing import StandardScaler\n",
    "\n",
    "# 3. Machine Learning\n",
    "from sklearn.ensemble import RandomForestClassifier\n",
    "\n",
    "# 4. Evaluation\n",
    "import matplotlib.pyplot as plt\n",
    "%matplotlib inline\n",
    "import seaborn as sn\n",
    "from sklearn.metrics import confusion_matrix\n",
    "from sklearn.model_selection import cross_val_score\n",
    "from sklearn.metrics import accuracy_score"
   ]
  },
  {
   "cell_type": "markdown",
   "metadata": {},
   "source": [
    "## 1. Dataset structure"
   ]
  },
  {
   "cell_type": "markdown",
   "metadata": {},
   "source": [
    "#### functions"
   ]
  },
  {
   "cell_type": "code",
   "execution_count": 2,
   "metadata": {},
   "outputs": [],
   "source": [
    "def get_datasets(path):\n",
    "    '''(str) --> np.array[130,980], np.array[130,1]\n",
    "    returns the dataset (X) and the labels (y) from a given path out of a *.csv-file\n",
    "    '''\n",
    "    X_raw = pd.read_csv(path + '/' + 'raw_data.csv', index_col=0).values\n",
    "    y     = pd.read_csv(path + '/' + 'label.csv'   , header=None).values.ravel()\n",
    "    \n",
    "    return X_raw,y"
   ]
  },
  {
   "cell_type": "markdown",
   "metadata": {},
   "source": [
    "----"
   ]
  },
  {
   "cell_type": "code",
   "execution_count": 3,
   "metadata": {},
   "outputs": [],
   "source": [
    "path = os.getcwd() + '/data/' + 'User_4_1_150917' # change User_x_x_xxxxxx for different dataset\n",
    "X_raw,y = get_datasets(path)\n",
    "frame_size = 140 # 1.4 seconds recording window"
   ]
  },
  {
   "cell_type": "code",
   "execution_count": 4,
   "metadata": {},
   "outputs": [
    {
     "name": "stdout",
     "output_type": "stream",
     "text": [
      "(130, 980)\n",
      "(130,)\n"
     ]
    }
   ],
   "source": [
    "print(X_raw.shape)      # X --> raw dataset\n",
    "print(y.shape)      # y --> labels"
   ]
  },
  {
   "cell_type": "markdown",
   "metadata": {},
   "source": [
    "The __raw dataset X__ is saved in a (130 ∗ 980) matrix, containing the sensor readings.\n",
    "\n",
    "- _13 gestures ∗ 10 executions = 130 rows_\n",
    "\n",
    "- _1.4 seconds ∗ 100 Hz sampling frequency ∗ 7 sensor axes = 980 columns_\n",
    "\n",
    "The 13 gestures are executed 10 times. Each gesture recording\n",
    "takes 1.4 seconds. The raw data sensor readings consist of 7 time progression signals (ax,ay,az,qw,qx,qy,qz), aligned into a single vector: \n",
    "- ax = Linear acceleration in x\n",
    "- ay = Linear acceleration in y\n",
    "- az = Linear acceleration in z\n",
    "- qw = Angular acceleration in quaternions\n",
    "- qx = Angular acceleration in quaternions\n",
    "- qy = Angular acceleration in quaternions\n",
    "- qz = Angular acceleration in quaternions\n",
    "\n",
    "From index 0 to 140 the vector contains the readings from the x-\n",
    "acceleration, index 140 to 280 show the acceleration readings of the y-axes, and so forth.\n",
    "The reason for recording 1.4 seconds is that every gesture execution needs\n",
    "to fit into that time window. The longest gesture performance took approximately 1.4\n",
    "seconds. Incomplete gestures lead to biased predictions.\n",
    "\n",
    "The __labels__ contain the labels of the concerning gestures as a string"
   ]
  },
  {
   "cell_type": "code",
   "execution_count": 5,
   "metadata": {},
   "outputs": [
    {
     "name": "stdout",
     "output_type": "stream",
     "text": [
      "(91, 980)\n",
      "(39, 980)\n",
      "(91,)\n",
      "(39,)\n"
     ]
    }
   ],
   "source": [
    "X_train_raw, X_test_raw, y_train, y_test = train_test_split(X_raw, y, test_size=0.3) # split dataset into Train and Test Data\n",
    "print(X_train_raw.shape)\n",
    "print(X_test_raw.shape)\n",
    "print(y_train.shape)\n",
    "print(y_test.shape)"
   ]
  },
  {
   "cell_type": "markdown",
   "metadata": {},
   "source": [
    "## 2. Preprocessing"
   ]
  },
  {
   "cell_type": "markdown",
   "metadata": {},
   "source": [
    "This section contains the complete feature construction process. The way to preprocess the raw data is adapted from:\n",
    "- Using Machine Learning for Real-time Activity Recognition and Estimation of Energy Expenditure - Tapia, Emmanuel <br/>(Link: http://hdl.handle.net/1721.1/44913)\n",
    "- Accelerometer Gesture Recognition - Xie M, Pan D <br/>(Link: http://cs229.stanford.edu/proj2014/Michael%20Xie,%20David%20Pan,%20Accelerometer%20Gesture%20Recognition.pdf)\n",
    "\n",
    "The following table shows the features that are calculated:\n",
    "\n",
    "<br/>\n",
    "<img src=\"img/feature_table1.png\" width=\"600\">\n",
    "<img src=\"img/feature_table2.png\" width=\"600\">\n",
    "\n",
    "<br/>\n",
    "The indicators of different features (e.g. ___1. Measures of bodyposture___) are also used in the function section below"
   ]
  },
  {
   "cell_type": "markdown",
   "metadata": {},
   "source": [
    "#### functions"
   ]
  },
  {
   "cell_type": "code",
   "execution_count": 6,
   "metadata": {},
   "outputs": [],
   "source": [
    "#################### main function #############\n",
    "\n",
    "def preprocess_raw_data(X_raw, frame_size):\n",
    "    \"\"\"(np.array, int) --> np.array\n",
    "    Arguments:\n",
    "    - X_raw --> raw data - can be a single vector or a matrix\n",
    "    - frame_size --> \n",
    "    Returns the preprocessed dataset (X), which was transformed via the\n",
    "    create_features-routine.\n",
    "    \"\"\"\n",
    "    \n",
    "    X = np.array([])\n",
    "    for row in range(X_raw.shape[0]): \n",
    "        \n",
    "        # split up matrix into vector and scroll process each\n",
    "        # one alone\n",
    "        \n",
    "        x_raw = X_raw[row, :]\n",
    "        feature_vector = create_feature_vector(x_raw, frame_size) # create feature vector from raw data vector\n",
    "        \n",
    "        if X.shape[0] == 0:\n",
    "            X = feature_vector\n",
    "        else:\n",
    "            X = np.concatenate((X,feature_vector), axis=0) # stack X to matrix\n",
    "\n",
    "    return X\n",
    "\n",
    "\n",
    "def create_feature_vector(y, frame_size, f_abt = None):\n",
    "    '''(np.array[1,140], int, [int] --> np.array[1,259]\n",
    "    \n",
    "    returns a variety of features out of the input signal\n",
    "    returns the feature's names\n",
    "    '''\n",
    "    \n",
    "    if f_abt == None:\n",
    "        f_abt = 100 # 100 Hz\n",
    "        \n",
    "    # reshape vector back to matrix representation\n",
    "    y = y.reshape(frame_size,7)\n",
    "        \n",
    "    ###################### 1. Measures of body posture #################\n",
    "    # LowPass Filter 1Hz\n",
    "    y_lowpass_filter = lowpass_filter(y, 1, f_abt)\n",
    "\n",
    "    # DCMean\n",
    "    acl_DCMean_x    = np.mean(y_lowpass_filter[:,0]) #ax\n",
    "    acl_DCMean_y    = np.mean(y_lowpass_filter[:,1]) #ay\n",
    "    acl_DCMean_z    = np.mean(y_lowpass_filter[:,2]) #az\n",
    "    gy_DCMean_qs    = np.mean(y_lowpass_filter[:,3]) #qs\n",
    "    gy_DCMean_qx    = np.mean(y_lowpass_filter[:,4]) #qx\n",
    "    gy_DCMean_qy    = np.mean(y_lowpass_filter[:,5]) #qy\n",
    "    gy_DCMean_qz    = np.mean(y_lowpass_filter[:,6]) #qz\n",
    "\n",
    "    # DCTotalMean\n",
    "    acl_DCTotalMean = np.sum(acl_DCMean_x + acl_DCMean_y + \n",
    "                             acl_DCMean_z)\n",
    "    gy_DCTotalMean  = np.sum(gy_DCMean_qs + gy_DCMean_qx + \n",
    "                             gy_DCMean_qy + gy_DCMean_qz)\n",
    "\n",
    "    # DCArea\n",
    "    acl_DCArea = np.sum(y[:,0] + y[:,1] + y[:,2])\n",
    "    gy_DCArea  = np.sum(y[:,3] + y[:,4] + y[:,5] + y[:,6])\n",
    "\n",
    "    # DCPostureDist\n",
    "    acl_DC_PostureDist_XZ       = acl_DCMean_x - acl_DCMean_z #X-Z\n",
    "    acl_DC_PostureDist_XY       = acl_DCMean_x - acl_DCMean_y #X-Y\n",
    "    acl_DC_PostureDist_YZ       = acl_DCMean_y - acl_DCMean_z #Y-Z\n",
    "    gy_DC_PostureDist_qsqx      = gy_DCMean_qs - gy_DCMean_qx #qs-qx\n",
    "    gy_DC_PostureDist_qxqy      = gy_DCMean_qx - gy_DCMean_qy #qx-qy\n",
    "    gy_DC_PostureDist_qyqz      = gy_DCMean_qy - gy_DCMean_qz #qy-qz\n",
    "    gy_DC_PostureDist_qzqs      = gy_DCMean_qz - gy_DCMean_qs #qz-qs\n",
    "\n",
    "    ################### 2. Measures of motion shape ##################\n",
    "\n",
    "    # BandPass Filter 1Hz - 20Hz\n",
    "    y_bandpass_filter = bandpass_filter(y, 0.1, 25, f_abt) \n",
    "    # modifikation der Filterparameter\n",
    "\n",
    "    # ACAbsMean\n",
    "    acl_ACAbsMean_x    = np.mean(np.abs(y_bandpass_filter[:,0]))\n",
    "    acl_ACAbsMean_y    = np.mean(np.abs(y_bandpass_filter[:,1]))\n",
    "    acl_ACAbsMean_z    = np.mean(np.abs(y_bandpass_filter[:,2]))\n",
    "    gy_ACAbsMean_qs    = np.mean(np.abs(y_bandpass_filter[:,3])) #qs\n",
    "    gy_ACAbsMean_qx    = np.mean(np.abs(y_bandpass_filter[:,4])) #qx\n",
    "    gy_ACAbsMean_qy    = np.mean(np.abs(y_bandpass_filter[:,5])) #qy\n",
    "    gy_ACAbsMean_qz    = np.mean(np.abs(y_bandpass_filter[:,6])) #qz\n",
    "\n",
    "    # ACAbsArea\n",
    "    acl_ACAbsArea = np.sum(np.abs(y_bandpass_filter[:,0]) + \n",
    "                           np.abs(y_bandpass_filter[:,1]) + \n",
    "                           np.abs(y_bandpass_filter[:,2]))\n",
    "    gy_ACAbsArea  = np.sum(np.abs(y_bandpass_filter[:,3]) + \n",
    "                           np.abs(y_bandpass_filter[:,4]) + \n",
    "                           np.abs(y_bandpass_filter[:,5]) +\n",
    "                           np.abs(y_bandpass_filter[:,6]))\n",
    "\n",
    "    # ACSkew\n",
    "    acl_ACSkew_x    = ACSkew(y_bandpass_filter[:,0])\n",
    "    acl_ACSkew_y    = ACSkew(y_bandpass_filter[:,1])\n",
    "    acl_ACSkew_z    = ACSkew(y_bandpass_filter[:,2])\n",
    "    gy_ACSkew_qs    = ACSkew(y_bandpass_filter[:,3])\n",
    "    gy_ACSkew_qx    = ACSkew(y_bandpass_filter[:,4])\n",
    "    gy_ACSkew_qy    = ACSkew(y_bandpass_filter[:,5])\n",
    "    gy_ACSkew_qz    = ACSkew(y_bandpass_filter[:,6])\n",
    "\n",
    "    # ACKur\n",
    "    acl_ACKur_x = ACKur(y_bandpass_filter[:,0])\n",
    "    acl_ACKur_y = ACKur(y_bandpass_filter[:,1])\n",
    "    acl_ACKur_z = ACKur(y_bandpass_filter[:,2])\n",
    "    gy_ACKur_qs = ACKur(y_bandpass_filter[:,3])\n",
    "    gy_ACKur_qx = ACKur(y_bandpass_filter[:,4])\n",
    "    gy_ACKur_qy = ACKur(y_bandpass_filter[:,5])\n",
    "    gy_ACKur_qz = ACKur(y_bandpass_filter[:,6])\n",
    "\n",
    "    ################# 3. Measures of motion energy #################\n",
    "\n",
    "    #ACVar\n",
    "    acl_gy_ACVar = ACVar(y_bandpass_filter)\n",
    "    acl_gy_ACAbsCV = ((np.sqrt(ACVar(y_bandpass_filter)))\n",
    "                      /np.mean(y_bandpass_filter))*100\n",
    "    \n",
    "    # ACEnergy\n",
    "    acl_ACEnergy, gy_ACEnergy = calc_signal_energy(y_bandpass_filter)\n",
    "\n",
    "    # ACBandEnergy\n",
    "    acl_ACBandEnergy, gy_ACBandEnergy = calc_signal_energy(\n",
    "        bandpass_filter(y, 0.3, 3.5, f_abt)) \n",
    "\n",
    "    #ACLowEnergy\n",
    "    acl_ACLowEnergy, gy_ACLowEnergy = calc_signal_energy(\n",
    "        bandpass_filter(y, 0.0001, 0.71, f_abt))\n",
    "\n",
    "    #ACModVigEnergy\n",
    "    acl_ACModVigEnergy, gy_ACModVigEnergy = calc_signal_energy(\n",
    "        bandpass_filter(y, 0.71, 10, f_abt)) \n",
    "    \n",
    "    #ACGesSpec1Energy\n",
    "    acl_ACGesSpec1Energy, gy_ACGesSpec1Energy = calc_signal_energy(\n",
    "        bandpass_filter(y, 0.1, 15, f_abt)) \n",
    "    \n",
    "    #ACGesSpec2Energy\n",
    "    acl_ACGesSpec2Energy, gy_ACGesSpec2Energy = calc_signal_energy(\n",
    "        bandpass_filter(y, 3, 20, f_abt)) \n",
    "    \n",
    "    #ACGesSpec3Energy\n",
    "    acl_ACGesSpec3Energy, gy_ACGesSpec3Energy = calc_signal_energy(\n",
    "        bandpass_filter(y, 10, 25, f_abt)) \n",
    "\n",
    "    ################  ###################\n",
    "    \n",
    "    # calculate fouier spectrum\n",
    "    acl_gy_fourier_spectrum = fourier_spec_signal(y, frame_size)[:30,:].reshape(1,-1)\n",
    "    \n",
    "    ############### stack to vector #######\n",
    "    \n",
    "    ################# Concatenate features from 1,2,3 ###############\n",
    "    \n",
    "    features = np.array([])\n",
    "    features = np.append(features,\n",
    "                         [acl_DCMean_x, acl_DCMean_y, acl_DCMean_z, \n",
    "                          gy_DCMean_qs, gy_DCMean_qx, gy_DCMean_qy, \n",
    "                          gy_DCMean_qz,\n",
    "                          acl_DCTotalMean, gy_DCTotalMean, \n",
    "                          acl_DCArea, gy_DCArea,\n",
    "                          acl_DC_PostureDist_XZ, acl_DC_PostureDist_XY, \n",
    "                          acl_DC_PostureDist_YZ,\n",
    "                          gy_DC_PostureDist_qsqx, gy_DC_PostureDist_qxqy, \n",
    "                          gy_DC_PostureDist_qyqz, gy_DC_PostureDist_qzqs,\n",
    "                          acl_ACAbsMean_x, acl_ACAbsMean_y, acl_ACAbsMean_z, \n",
    "                          gy_ACAbsMean_qs, gy_ACAbsMean_qx, gy_ACAbsMean_qy, \n",
    "                          gy_ACAbsMean_qz,\n",
    "                          acl_ACAbsArea, gy_ACAbsArea,\n",
    "                          acl_ACSkew_x, acl_ACSkew_y, acl_ACSkew_z, \n",
    "                          gy_ACSkew_qs, gy_ACSkew_qx, gy_ACSkew_qy, \n",
    "                          gy_ACSkew_qz,\n",
    "                          acl_ACKur_x, acl_ACKur_y, acl_ACKur_z, \n",
    "                          gy_ACKur_qs, gy_ACKur_qx, gy_ACKur_qy, gy_ACKur_qz,\n",
    "                          acl_ACEnergy, gy_ACEnergy, acl_ACBandEnergy, \n",
    "                          gy_ACBandEnergy,\n",
    "                          acl_ACLowEnergy, gy_ACLowEnergy, \n",
    "                          acl_ACModVigEnergy, gy_ACModVigEnergy,\n",
    "                          acl_ACGesSpec1Energy, gy_ACGesSpec1Energy,\n",
    "                          acl_ACGesSpec2Energy, gy_ACGesSpec2Energy,\n",
    "                          acl_ACGesSpec3Energy, gy_ACGesSpec3Energy])\n",
    "    \n",
    "    ################### add fourier spectrum ##################\n",
    "    \n",
    "    features = np.append(features, acl_gy_fourier_spectrum)                    \n",
    "    \n",
    "    ################### return feature vector #################\n",
    "    \n",
    "    return features.reshape(1,-1)\n",
    "\n",
    "\n",
    "\n",
    "    #################### filter helper functions #################\n",
    "\n",
    "def bandpass_filter(y, f_cutoff_low, f_cutoff_high, f_abt):\n",
    "    \"\"\"\n",
    "    Returns a bandpass filtered signal\n",
    "    \"\"\"\n",
    "    nyq = 0.5 * f_abt\n",
    "    low_cutoff = f_cutoff_low / nyq\n",
    "    high_cutoff = f_cutoff_high / nyq\n",
    "    \n",
    "    bandpass_signal = np.zeros(y.shape)\n",
    "\n",
    "    for i in range(y.shape[1]):\n",
    "            b, a = signal.butter(5, [low_cutoff, high_cutoff] , 'bandpass') \n",
    "            # Bandpass\n",
    "            bandpass_signal[:,i] = signal.filtfilt(b, a, y[:,i])\n",
    "    \n",
    "    return bandpass_signal\n",
    "\n",
    "def lowpass_filter(y, f_cutoff, f_abt):\n",
    "    \"\"\"\n",
    "    Returns a lowpass filtered signal\n",
    "    \"\"\"\n",
    "    \n",
    "    nyq = 0.5 * f_abt\n",
    "    normal_cutoff = f_cutoff / nyq\n",
    "    \n",
    "    lowpass_signal = np.zeros(y.shape)\n",
    "    for i in range(y.shape[1]):\n",
    "        b, a = signal.butter(5, normal_cutoff , 'low') # Tiefpass\n",
    "        lowpass_signal[:,i] = signal.filtfilt(b, a, y[:,i])\n",
    "    \n",
    "    return lowpass_signal\n",
    "\n",
    "\n",
    "    ########### feature functions for calculation ###########\n",
    "\n",
    "\n",
    "def ACSkew(x):\n",
    "    '''(np.vector) --> float\n",
    "    \n",
    "    returns a measure of the peakedness of the accelerometer / \n",
    "    gyroscope signal over a given window\n",
    "    '''\n",
    "    n = len(x)\n",
    "    \n",
    "    sum_numerator   = np.sum (np.power ((x - np.mean(x)), 3))\n",
    "    sum_denominator = np.sum (np.power ((x - np.mean(x)), 2))\n",
    "\n",
    "    return (np.sqrt(n) * sum_numerator) / (np.power(sum_denominator, 3/2))\n",
    "\n",
    "def ACKur(x):\n",
    "    '''(np.vector) --> float\n",
    "    \n",
    "    returns a measure of the peakedness of the accelerometer / gyroscope \n",
    "    signal over a given window or a measure of its relative flatness \n",
    "    as compared to the normal distribution.\n",
    "    '''\n",
    "    n = len(x)\n",
    "    \n",
    "    sum_numerator   = np.sum (np.power ((x - np.mean(x)), 4))\n",
    "    sum_denominator = np.sum (np.power ((x - np.mean(x)), 2))\n",
    "\n",
    "    return (n * sum_numerator / (np.power(sum_denominator,2)))-3\n",
    "\n",
    "def calc_signal_energy(y, number_of_samples = None):\n",
    "    '''(np.array[140,7], [int]) --> np.array[30,7], np.array[40,7]\n",
    "    \n",
    "    returns the signal energy of the accelerometers and gyroscopes.\n",
    "    '''\n",
    "    if number_of_samples == None:\n",
    "        N = 140\n",
    "    \n",
    "    yf = fft(y)\n",
    "    half_abs_yf = 2/N*np.abs(yf[0:N//2,:])\n",
    "    acl_energy = np.sum(half_abs_yf[:,0:3])\n",
    "    gy_energy = np.sum(half_abs_yf[:,3:7])\n",
    "    return acl_energy, gy_energy\n",
    "\n",
    "def fourier_spec_axis(y):\n",
    "    '''(np.array) -> np.array\n",
    "    calculates the fft spectrum of the signal and returns it.\n",
    "    '''\n",
    "    N = len(y)\n",
    "    yf = fft(y)\n",
    "    half_abs_yf = 2/N*np.abs(yf[0:N//2])\n",
    "    return half_abs_yf\n",
    "\n",
    "def fourier_spec_signal(y, frame_size= None):\n",
    "    '''(np.array, int) --> np.array\n",
    "\n",
    "    returns the standard scaled fourierspectrum (70,7) \n",
    "    of each vector (140,1) of the input signal matrix (140,7)\n",
    "    '''\n",
    "    if frame_size == None:\n",
    "        frame_size = 140\n",
    "    \n",
    "    fourier_spec = np.array([])\n",
    "    for i in range(y.shape[1]):\n",
    "        fourier_spec = np.append(fourier_spec, \n",
    "                                 fourier_spec_axis(y[:, i]))\n",
    "    fourier_spec = fourier_spec.reshape(frame_size//2, 7)\n",
    "    scaler = StandardScaler()\n",
    "    fourier_spec = scaler.fit_transform(fourier_spec)\n",
    "    return fourier_spec\n",
    "\n",
    "def varianz(x):\n",
    "    \"\"\"(np.array) -> np.array [1, 5]\n",
    "    \n",
    "    seperates the signal into 4 parts, calculates the \n",
    "    variance of the concerning section and returns it \n",
    "    as a list\n",
    "    \"\"\"\n",
    "    a = np.var(x)\n",
    "    s = np.array([])\n",
    "    \n",
    "    one_fourth = (len(x)//4)\n",
    "    \n",
    "    for i in range(0,len(x), one_fourth):\n",
    "        s = np.append(s, np.var(x[i:i+one_fourth]))\n",
    "    s = np.append(s, a)\n",
    "    return s\n",
    "\n",
    "\n",
    "def ACVar(y):\n",
    "    '''(np.array[140,7]) --> np.array\n",
    "    \n",
    "    returns the a modified signal's variance\n",
    "    (see docstring of function varianz())\n",
    "    '''\n",
    "    a = np.array([])\n",
    "    for i in range(y.shape[1]):\n",
    "        a = np.append(a, varianz(y[:,i]))\n",
    "    return a"
   ]
  },
  {
   "cell_type": "markdown",
   "metadata": {},
   "source": [
    "---"
   ]
  },
  {
   "cell_type": "code",
   "execution_count": 7,
   "metadata": {},
   "outputs": [],
   "source": [
    "X_train = preprocess_raw_data(X_train_raw, frame_size)\n",
    "X_test = preprocess_raw_data(X_test_raw , frame_size)"
   ]
  },
  {
   "cell_type": "markdown",
   "metadata": {},
   "source": [
    "## 3. Machine Learning"
   ]
  },
  {
   "cell_type": "markdown",
   "metadata": {},
   "source": []
  },
  {
   "cell_type": "markdown",
   "metadata": {},
   "source": [
    "#### functions"
   ]
  },
  {
   "cell_type": "code",
   "execution_count": 8,
   "metadata": {},
   "outputs": [],
   "source": [
    "def train_clf(X, y):\n",
    "    '''(np.array(n,980), np.array(n,), int, str) --> None\n",
    "\n",
    "    Trains a Random Forest Classifier on the preprocessed data\n",
    "    and returns the decision boundary functions\n",
    "    '''\n",
    "\n",
    "    # define classifier\n",
    "    clf = RandomForestClassifier(n_estimators= 100, n_jobs=-1, max_depth=70, max_features=30)\n",
    "    # train classifier\n",
    "    clf.fit(X, y)\n",
    "\n",
    "    return clf"
   ]
  },
  {
   "cell_type": "code",
   "execution_count": 9,
   "metadata": {},
   "outputs": [],
   "source": [
    "clf = train_clf(X_train,y_train)"
   ]
  },
  {
   "cell_type": "markdown",
   "metadata": {},
   "source": [
    "## 4. Evaluation"
   ]
  },
  {
   "cell_type": "code",
   "execution_count": null,
   "metadata": {},
   "outputs": [],
   "source": []
  },
  {
   "cell_type": "markdown",
   "metadata": {},
   "source": [
    "#### functions"
   ]
  },
  {
   "cell_type": "code",
   "execution_count": 10,
   "metadata": {},
   "outputs": [],
   "source": [
    "def cf_matrix(clf, X_test, y_test, small_plot = False):\n",
    "    '''\n",
    "    (clf, np.array, np.array, str) --> None\n",
    "    \n",
    "    plots a heatmap of the confusion matrix of the current train-test-split.\n",
    "    '''\n",
    "    label = np.unique([y_test])\n",
    "    \n",
    "    # make prediction\n",
    "    y_pred = clf.predict(X_test)\n",
    "    \n",
    "    # confusion matrix\n",
    "    cm = confusion_matrix(y_test, y_pred, label)\n",
    "    \n",
    "    plt.figure(figsize = (7,5.5))\n",
    "    pal = sn.diverging_palette(220, 20, n=7, as_cmap = True)\n",
    "    \n",
    "    if small_plot == False:\n",
    "        df_cm = pd.DataFrame(cm, index = [i for i in label], columns = [i for i in label])\n",
    "        ax = sn.heatmap(df_cm, annot=True, cmap = pal, square=True, fmt = 'g')\n",
    "        ax.set(xlabel='Predicted values', ylabel='True values')\n",
    "    else:\n",
    "        df_cm = pd.DataFrame(cm)\n",
    "        ax = sn.heatmap(df_cm, annot=True, cmap = pal, square=True, fmt = 'g', cbar = False)\n",
    "\n",
    "def clf_acc(clf, X_test, y_test):\n",
    "    '''(clf, np.array, np.array) --> None\n",
    "    \n",
    "    Prints the accuracy score for the current train-test-split\n",
    "    '''\n",
    "    \n",
    "    y_pred = clf.predict(X_test)\n",
    "    acc = accuracy_score(y_test, y_pred)\n",
    "    print ('accuracy of the current Train_test-split' , acc)\n",
    "    \n",
    "def cross_val(clf, X, y):\n",
    "    '''(clf, np.array, np.array) --> None\n",
    "    \n",
    "    calculates and prints a 10 fold crossval score.\n",
    "    '''\n",
    "    \n",
    "    scores = cross_val_score(clf, X, y, cv = 10)\n",
    "    print(\"Crossval score Accuracy:                 %0.2f (+/- %0.2f)\" % (scores.mean(), scores.std() * 2))"
   ]
  },
  {
   "cell_type": "markdown",
   "metadata": {},
   "source": [
    "##### Accuracy score"
   ]
  },
  {
   "cell_type": "code",
   "execution_count": 11,
   "metadata": {},
   "outputs": [
    {
     "name": "stdout",
     "output_type": "stream",
     "text": [
      "accuracy of the current Train_test-split 1.0\n"
     ]
    }
   ],
   "source": [
    "clf_acc(clf, X_test, y_test)"
   ]
  },
  {
   "cell_type": "markdown",
   "metadata": {},
   "source": [
    "##### Confusion Matrix"
   ]
  },
  {
   "cell_type": "code",
   "execution_count": 12,
   "metadata": {},
   "outputs": [
    {
     "data": {
      "image/png": "[encoded data removed]",
      "text/plain": [
       "<matplotlib.figure.Figure at 0x7f8fd385a470>"
      ]
     },
     "metadata": {},
     "output_type": "display_data"
    }
   ],
   "source": [
    "cf_matrix(clf, X_test, y_test)"
   ]
  },
  {
   "cell_type": "markdown",
   "metadata": {},
   "source": [
    "##### Crossval Score - Applied to complete dataset"
   ]
  },
  {
   "cell_type": "code",
   "execution_count": 13,
   "metadata": {},
   "outputs": [
    {
     "name": "stdout",
     "output_type": "stream",
     "text": [
      "Crossval score Accuracy:                 0.98 (+/- 0.06)\n"
     ]
    }
   ],
   "source": [
    "X = preprocess_raw_data(X_raw, frame_size)\n",
    "cross_val(clf, X, y)"
   ]
  }
 ],
 "metadata": {
  "kernelspec": {
   "display_name": "Python 3",
   "language": "python",
   "name": "python3"
  },
  "language_info": {
   "codemirror_mode": {
    "name": "ipython",
    "version": 3
   },
   "file_extension": ".py",
   "mimetype": "text/x-python",
   "name": "python",
   "nbconvert_exporter": "python",
   "pygments_lexer": "ipython3",
   "version": "3.6.4"
  }
 },
 "nbformat": 4,
 "nbformat_minor": 2
}
