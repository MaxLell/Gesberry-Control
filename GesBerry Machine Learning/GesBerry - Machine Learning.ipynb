{
 "cells": [
  {
   "cell_type": "markdown",
   "metadata": {},
   "source": [
    "# GesBerry Machine Learning\n",
    "\n",
    "\n",
    "This Jupyter notebook introduces the Signal Processing steps of the gesture recognition software (**A1-test**). This notebook can be run independently from the Raspberry Pi. No further installations are necessary. Important to mention is that this is still in a prototypic state. The system works in its current state, but there are still many things that can be improved and this an ongoing project. If you have any suggestions or critique, please write me an email to maximilian.lell@gmail.com\n",
    "\n",
    "Furthermore also the effects regarding the user are displayed: Example: The quality of data is not constant when recording gestures. Not only does the GesBerry adapt itself to the gestures, but also the user needs to learn their proper performances, which results in inconsistent data (At least in the initial stages). After 1 session the data becomes consistent (see **A1-A2 - Test**)\n",
    "\n",
    "\n",
    "This script can be separated into several parts. In every part different characteristics of the system will be investigated:\n",
    "1. __A1-Test__:\n",
    "    - Raw Data representation\n",
    "    - Preprocessing routine\n",
    "    - Machine Learning Algorithm selection process\n",
    "    - Split up one dataset into training-set and validation-set and evaluate on validation set.\n",
    "    \n",
    "    \n",
    "2. __A1-A2-Test__:\n",
    "    - Test on 1 complete training-set and evaluation on 1 complete seperate dataset (same user recorded both datasets)\n",
    "    - Investigation on the effect of trained and untrained users\n",
    "    \n",
    "    \n",
    "3. __A-B-Test__:\n",
    "    - Test on 1 complete training-set of one person (A) and evaluation on 1 complete seperate dataset from person (B)\n",
    "    - Investigation of the user-dependency\n",
    "    \n",
    "\n",
    "\n",
    "The data to evaluate the procedure is also provided: See folder data in the repository.\n",
    "\n",
    "This notebook is structured from a high-level approach to the low-level details. \n",
    "\n"
   ]
  },
  {
   "cell_type": "code",
   "execution_count": 1,
   "metadata": {},
   "outputs": [],
   "source": [
    "# imports\n",
    "import numpy as np # -------------------------------------- vers. numpy:  1.14.0\n",
    "import pandas as pd # ------------------------------------- vers. pandas: 0.22.0\n",
    "\n",
    "# 1. Dataset Structure\n",
    "import sys, os\n",
    "from sklearn.model_selection import train_test_split # ---- vers. scikit-learn: 0.19.1\n",
    "\n",
    "# 2. Preprocessing\n",
    "from scipy import signal # -------------------------------- vers. scipy: 1.0.0\n",
    "from scipy.fftpack import fft\n",
    "from sklearn.preprocessing import StandardScaler\n",
    "from sklearn.preprocessing import Normalizer\n",
    "\n",
    "# 3. Machine Learning\n",
    "from sklearn.neighbors import KNeighborsClassifier\n",
    "from sklearn.svm import SVC, LinearSVC, NuSVC\n",
    "from sklearn.tree import DecisionTreeClassifier\n",
    "from sklearn.ensemble import RandomForestClassifier \n",
    "from sklearn.ensemble import AdaBoostClassifier \n",
    "from sklearn.ensemble import GradientBoostingClassifier\n",
    "from sklearn.naive_bayes import GaussianNB\n",
    "from sklearn.neural_network import MLPClassifier\n",
    "from sklearn.model_selection import GridSearchCV\n",
    "from sklearn.model_selection import cross_val_score\n",
    "\n",
    "# 4. Evaluation\n",
    "import matplotlib.pyplot as plt # -------------------------- vers. matplotlib: 2.1.2\n",
    "%matplotlib inline\n",
    "import seaborn as sn # ------------------------------------- vers. seaborn: 0.8.1\n",
    "from sklearn.metrics import confusion_matrix\n",
    "from sklearn.metrics import accuracy_score"
   ]
  },
  {
   "cell_type": "markdown",
   "metadata": {},
   "source": [
    "## A1 - Test\n",
    "The following flowchart shows the signal flow for this notebook:\n",
    "\n",
    "<br/>\n",
    "\n",
    "<img src=\"img/flowchart_ATest.png\" width=\"600\">\n",
    "\n",
    "<br/>\n",
    "\n",
    "The following procedure is executed (steps have the same numbers as the grey boxes above):\n",
    "1. Get labeled dataset and split it into training and test set\n",
    "2. preprocess and learn from train data; afterwards put a decision boundary function out. The decision boundary function contains the knowledge of the classifier on how to relate the data to the gestures\n",
    "3. preprocess and classify the data. The preprocessing is the same as it is applied in the learning step. The labels are excluded and the classifier identifies the labels of the gestures\n",
    "4. Evaluate the classification results in 3 experiments:\n",
    "    - Confusion matrix\n",
    "    - Accuracy score\n",
    "    - k-fold crossvalidation score\n",
    "    "
   ]
  },
  {
   "cell_type": "markdown",
   "metadata": {},
   "source": [
    "### 1.1. Dataset structure"
   ]
  },
  {
   "cell_type": "markdown",
   "metadata": {},
   "source": [
    "#### functions"
   ]
  },
  {
   "cell_type": "code",
   "execution_count": 2,
   "metadata": {},
   "outputs": [],
   "source": [
    "def get_datasets(path):\n",
    "    '''(str) --> np.array[130,980], np.array[130,1]\n",
    "    \n",
    "    Reads in the *.csv files from the dataset at a given path-location and returns their values as\n",
    "    numpy arrays.\n",
    "    \n",
    "    args:\n",
    "        * path (str): variable that contains the complete path to the dataset's directory\n",
    "    \n",
    "    returns:\n",
    "        * X_raw (np.array[130,980]): time progression signals stacked in a matrix.\n",
    "        * labels (y) from a given path out of a *.csv-file\n",
    "    \n",
    "    '''\n",
    "    X_raw = pd.read_csv(path + '/' + 'raw_data.csv', index_col=0).values\n",
    "    y     = pd.read_csv(path + '/' + 'label.csv'   , header=None).values.ravel()\n",
    "    \n",
    "    return X_raw,y"
   ]
  },
  {
   "cell_type": "markdown",
   "metadata": {},
   "source": [
    "----"
   ]
  },
  {
   "cell_type": "code",
   "execution_count": 3,
   "metadata": {},
   "outputs": [],
   "source": [
    "# selectable datasets:\n",
    "# User 1: 'User_1_1_011017', 'User_1_2_011017', 'User_1_3_121017' \n",
    "# User 2: 'User_2_1_071017' \n",
    "# User 3: 'User_3_1_131017', 'User_3_2_131017'\n",
    "# User 4: 'User_4_1_150917'\n",
    "\n",
    "path = os.getcwd() + '/data/' + 'User_1_3_121017' # -- change User_x_x_xxxxxx for different dataset\n",
    "X_raw,y = get_datasets(path) # ----------------------- Function loads the data and the labels\n",
    "frame_size = 140 # ----------------------------------- 1.4 seconds recording window"
   ]
  },
  {
   "cell_type": "code",
   "execution_count": 4,
   "metadata": {},
   "outputs": [
    {
     "name": "stdout",
     "output_type": "stream",
     "text": [
      "(130, 980)\n",
      "(130,)\n"
     ]
    }
   ],
   "source": [
    "print(X_raw.shape)  # X --> raw dataset\n",
    "print(y.shape)      # y --> labels"
   ]
  },
  {
   "cell_type": "markdown",
   "metadata": {},
   "source": [
    "The __raw dataset X__ is saved in a (130 ∗ 980) matrix, containing the sensor readings.\n",
    "\n",
    "- _13 gestures ∗ 10 executions = 130 rows_\n",
    "\n",
    "- _1.4 seconds ∗ 100 Hz sampling frequency ∗ 7 sensor axes = 980 columns_\n",
    "\n",
    "The 13 gestures are executed 10 times. Each gesture recording\n",
    "takes 1.4 seconds. The raw data sensor readings consist of 7 time progression signals (ax,ay,az,qw,qx,qy,qz), aligned into a single vector: \n",
    "- ax = Linear acceleration in x\n",
    "- ay = Linear acceleration in y\n",
    "- az = Linear acceleration in z\n",
    "- qw = Angular acceleration in quaternions\n",
    "- qx = Angular acceleration in quaternions\n",
    "- qy = Angular acceleration in quaternions\n",
    "- qz = Angular acceleration in quaternions\n",
    "\n",
    "From index 0 to 140 the vector contains the readings from the x-\n",
    "acceleration, index 140 to 280 show the acceleration readings of the y-axes, and so forth.\n",
    "The reason for recording 1.4 seconds is that every gesture execution needs\n",
    "to fit into that time window. The longest gesture performance took approximately 1.4\n",
    "seconds. Incomplete gestures lead to biased predictions.\n",
    "\n",
    "The __labels__ contain the labels of the concerning gestures as a string"
   ]
  },
  {
   "cell_type": "code",
   "execution_count": 5,
   "metadata": {},
   "outputs": [
    {
     "name": "stdout",
     "output_type": "stream",
     "text": [
      "(91, 980)\n",
      "(39, 980)\n",
      "(91,)\n",
      "(39,)\n"
     ]
    }
   ],
   "source": [
    "X_train_raw, X_test_raw, y_train, y_test = train_test_split(X_raw, y, test_size=0.3) \n",
    "# split dataset into random Train and Test Data\n",
    "\n",
    "print(X_train_raw.shape)\n",
    "print(X_test_raw.shape)\n",
    "print(y_train.shape)\n",
    "print(y_test.shape)"
   ]
  },
  {
   "cell_type": "markdown",
   "metadata": {},
   "source": [
    "## 1.2. Preprocessing"
   ]
  },
  {
   "cell_type": "markdown",
   "metadata": {},
   "source": [
    "This section contains the complete feature construction process. The way to preprocess the raw data is adapted from:\n",
    "- Using Machine Learning for Real-time Activity Recognition and Estimation of Energy Expenditure - Tapia, Emmanuel <br/>(Link: http://hdl.handle.net/1721.1/44913)\n",
    "- Accelerometer Gesture Recognition - Xie M, Pan D <br/>(Link: http://cs229.stanford.edu/proj2014/Michael%20Xie,%20David%20Pan,%20Accelerometer%20Gesture%20Recognition.pdf)\n",
    "\n",
    "The following table shows the features that are calculated:\n",
    "\n",
    "<br/>\n",
    "<img src=\"img/feature_table1.png\" width=\"600\">\n",
    "<img src=\"img/feature_table2.png\" width=\"600\">\n",
    "\n",
    "<br/>\n",
    "The indicators of different features (e.g. ___1. Measures of bodyposture___) are also used in the function section below. Besides the features that are listed in the table also the fouriersignal for each axis is calculated and appended at the end of the feature vector"
   ]
  },
  {
   "cell_type": "markdown",
   "metadata": {},
   "source": [
    "#### functions"
   ]
  },
  {
   "cell_type": "code",
   "execution_count": 24,
   "metadata": {},
   "outputs": [],
   "source": [
    "#################### main function #####################################\n",
    "\n",
    "def preprocess_raw_data(X_raw, frame_size):\n",
    "    \"\"\"(np.array, int) --> np.array\n",
    "    \n",
    "    Function that transforms the raw time progression signal into feature vectors. Afterwards\n",
    "    the feature vector is normalized.\n",
    "    (Dimensions of matrizes depend from the frame_size - the dimensions\n",
    "    that are listed here refer to a frame_size of 140! Same comes for all\n",
    "    listed subfunctions)\n",
    "    \n",
    "    args:\n",
    "        * X_raw (np.array[130,980]): raw data - can be a single vector or a matrix\n",
    "        * frame_size (int): recording window size\n",
    "    \n",
    "    Returns:\n",
    "        * Preprocessed dataset (X) - vector or matrix\n",
    "    \n",
    "    TODO:\n",
    "        * Test efficiency of features to streamline code\n",
    "            - Only FFT-Features\n",
    "            - Only Tapia features\n",
    "            - Selected Tapia Features\n",
    "            \n",
    "    \n",
    "        \n",
    "    \"\"\"\n",
    "    norm = Normalizer()\n",
    "    X = np.array([])\n",
    "    for row in range(X_raw.shape[0]): \n",
    "        \n",
    "        # in case only one vector (X_raw) is provided: Output normalized featurevector\n",
    "        # in case X_raw represents a matrix: Split matrix up into vectors, calculate feature\n",
    "        # vectors, stack them and output the transformed dataset X\n",
    "        \n",
    "        # split up matrix into vector and process single vectors\n",
    "        x_raw = X_raw[row, :]\n",
    "        \n",
    "        # create feature vector from raw data vector\n",
    "        feature_vector = create_feature_vector(x_raw, frame_size) \n",
    "    \n",
    "        # normalize featurevector\n",
    "        feature_vector = norm.fit_transform(feature_vector) \n",
    "        \n",
    "        # in case only one vector (X_raw) is provided: Output featurevector\n",
    "        if X.shape[0] == 0:\n",
    "            X = feature_vector\n",
    "        \n",
    "        # in case a Matrix (X_raw) is provided: Stack to matrix and output matrix\n",
    "        else:\n",
    "            X = np.concatenate((X,feature_vector), axis=0) # --------- \n",
    "\n",
    "    return X\n",
    "\n",
    "########################################################################\n",
    "\n",
    "def create_feature_vector(y, frame_size, f_abt = 100):\n",
    "    \"\"\"(np.array[1,980], int, [int] --> np.array[1,259]\n",
    "    \n",
    "    Transforms the raw time progression signal vector into feature vector.\n",
    "    \n",
    "    args:\n",
    "        * y (np.array[1,980]): raw time progression signal vector\n",
    "        * frame_size (int):    duration of recording window in 100ms \n",
    "                               (e.g.: frame_size = 140 -> record time window: 1.4 sec)\n",
    "    \n",
    "    returns:\n",
    "        * features (np.array[1,259]): feature vector\n",
    "        \n",
    "    TODO:\n",
    "        * standarize the choice of variables in functions: \n",
    "          create_feature_vector: y = x_raw: confusing description.\n",
    "        * rework comments of helper functions\n",
    "    \n",
    "    \"\"\"\n",
    "\n",
    "        \n",
    "    # reshape vector back to matrix representation\n",
    "    y = y.reshape(frame_size,7)\n",
    "    \n",
    "    ############################ Tapia Features #########################\n",
    "    ###################### 1. Measures of body posture #################\n",
    "    # LowPass Filter 1Hz\n",
    "    y_lowpass_filter = lowpass_filter(y, 1, f_abt)\n",
    "\n",
    "    # DCMean\n",
    "    acl_DCMean_x    = np.mean(y_lowpass_filter[:,0]) #ax\n",
    "    acl_DCMean_y    = np.mean(y_lowpass_filter[:,1]) #ay\n",
    "    acl_DCMean_z    = np.mean(y_lowpass_filter[:,2]) #az\n",
    "    gy_DCMean_qs    = np.mean(y_lowpass_filter[:,3]) #qs\n",
    "    gy_DCMean_qx    = np.mean(y_lowpass_filter[:,4]) #qx\n",
    "    gy_DCMean_qy    = np.mean(y_lowpass_filter[:,5]) #qy\n",
    "    gy_DCMean_qz    = np.mean(y_lowpass_filter[:,6]) #qz\n",
    "\n",
    "    # DCTotalMean\n",
    "    acl_DCTotalMean = np.sum(acl_DCMean_x + acl_DCMean_y + \n",
    "                             acl_DCMean_z)\n",
    "    gy_DCTotalMean  = np.sum(gy_DCMean_qs + gy_DCMean_qx + \n",
    "                             gy_DCMean_qy + gy_DCMean_qz)\n",
    "\n",
    "    # DCArea\n",
    "    acl_DCArea = np.sum(y[:,0] + y[:,1] + y[:,2])\n",
    "    gy_DCArea  = np.sum(y[:,3] + y[:,4] + y[:,5] + y[:,6])\n",
    "\n",
    "    # DCPostureDist\n",
    "    acl_DC_PostureDist_XZ       = acl_DCMean_x - acl_DCMean_z #X-Z\n",
    "    acl_DC_PostureDist_XY       = acl_DCMean_x - acl_DCMean_y #X-Y\n",
    "    acl_DC_PostureDist_YZ       = acl_DCMean_y - acl_DCMean_z #Y-Z\n",
    "    gy_DC_PostureDist_qsqx      = gy_DCMean_qs - gy_DCMean_qx #qs-qx\n",
    "    gy_DC_PostureDist_qxqy      = gy_DCMean_qx - gy_DCMean_qy #qx-qy\n",
    "    gy_DC_PostureDist_qyqz      = gy_DCMean_qy - gy_DCMean_qz #qy-qz\n",
    "    gy_DC_PostureDist_qzqs      = gy_DCMean_qz - gy_DCMean_qs #qz-qs\n",
    "\n",
    "    ################### 2. Measures of motion shape ##################\n",
    "\n",
    "    # BandPass Filter 1Hz - 20Hz\n",
    "    y_bandpass_filter = bandpass_filter(y, 0.1, 25, f_abt) \n",
    "\n",
    "    # ACAbsMean\n",
    "    acl_ACAbsMean_x    = np.mean(np.abs(y_bandpass_filter[:,0])) #ax\n",
    "    acl_ACAbsMean_y    = np.mean(np.abs(y_bandpass_filter[:,1])) #ay\n",
    "    acl_ACAbsMean_z    = np.mean(np.abs(y_bandpass_filter[:,2])) #az\n",
    "    gy_ACAbsMean_qs    = np.mean(np.abs(y_bandpass_filter[:,3])) #qs\n",
    "    gy_ACAbsMean_qx    = np.mean(np.abs(y_bandpass_filter[:,4])) #qx\n",
    "    gy_ACAbsMean_qy    = np.mean(np.abs(y_bandpass_filter[:,5])) #qy\n",
    "    gy_ACAbsMean_qz    = np.mean(np.abs(y_bandpass_filter[:,6])) #qz\n",
    "\n",
    "    # ACAbsArea\n",
    "    acl_ACAbsArea = np.sum(np.abs(y_bandpass_filter[:,0]) + \n",
    "                           np.abs(y_bandpass_filter[:,1]) + \n",
    "                           np.abs(y_bandpass_filter[:,2]))\n",
    "    gy_ACAbsArea  = np.sum(np.abs(y_bandpass_filter[:,3]) + \n",
    "                           np.abs(y_bandpass_filter[:,4]) + \n",
    "                           np.abs(y_bandpass_filter[:,5]) +\n",
    "                           np.abs(y_bandpass_filter[:,6]))\n",
    "\n",
    "    # ACSkew\n",
    "    acl_ACSkew_x    = ACSkew(y_bandpass_filter[:,0])\n",
    "    acl_ACSkew_y    = ACSkew(y_bandpass_filter[:,1])\n",
    "    acl_ACSkew_z    = ACSkew(y_bandpass_filter[:,2])\n",
    "    gy_ACSkew_qs    = ACSkew(y_bandpass_filter[:,3])\n",
    "    gy_ACSkew_qx    = ACSkew(y_bandpass_filter[:,4])\n",
    "    gy_ACSkew_qy    = ACSkew(y_bandpass_filter[:,5])\n",
    "    gy_ACSkew_qz    = ACSkew(y_bandpass_filter[:,6])\n",
    "\n",
    "    # ACKur\n",
    "    acl_ACKur_x = ACKur(y_bandpass_filter[:,0])\n",
    "    acl_ACKur_y = ACKur(y_bandpass_filter[:,1])\n",
    "    acl_ACKur_z = ACKur(y_bandpass_filter[:,2])\n",
    "    gy_ACKur_qs = ACKur(y_bandpass_filter[:,3])\n",
    "    gy_ACKur_qx = ACKur(y_bandpass_filter[:,4])\n",
    "    gy_ACKur_qy = ACKur(y_bandpass_filter[:,5])\n",
    "    gy_ACKur_qz = ACKur(y_bandpass_filter[:,6])\n",
    "\n",
    "    ################# 3. Measures of motion energy #################\n",
    "\n",
    "    #ACVar\n",
    "    acl_gy_ACVar = ACVar(y_bandpass_filter)\n",
    "    acl_gy_ACAbsCV = ((np.sqrt(ACVar(y_bandpass_filter)))\n",
    "                      /np.mean(y_bandpass_filter))*100\n",
    "    \n",
    "    # ACEnergy\n",
    "    acl_ACEnergy, gy_ACEnergy = calc_signal_energy(y_bandpass_filter)\n",
    "\n",
    "    # ACBandEnergy\n",
    "    acl_ACBandEnergy, gy_ACBandEnergy = calc_signal_energy(\n",
    "        bandpass_filter(y, 0.3, 3.5, f_abt)) \n",
    "\n",
    "    #ACLowEnergy\n",
    "    acl_ACLowEnergy, gy_ACLowEnergy = calc_signal_energy(\n",
    "        bandpass_filter(y, 0.0001, 0.71, f_abt))\n",
    "\n",
    "    #ACModVigEnergy\n",
    "    acl_ACModVigEnergy, gy_ACModVigEnergy = calc_signal_energy(\n",
    "        bandpass_filter(y, 0.71, 10, f_abt)) \n",
    "    \n",
    "    #ACGesSpec1Energy\n",
    "    acl_ACGesSpec1Energy, gy_ACGesSpec1Energy = calc_signal_energy(\n",
    "        bandpass_filter(y, 0.1, 15, f_abt)) \n",
    "    \n",
    "    #ACGesSpec2Energy\n",
    "    acl_ACGesSpec2Energy, gy_ACGesSpec2Energy = calc_signal_energy(\n",
    "        bandpass_filter(y, 3, 20, f_abt)) \n",
    "    \n",
    "    #ACGesSpec3Energy\n",
    "    acl_ACGesSpec3Energy, gy_ACGesSpec3Energy = calc_signal_energy(\n",
    "        bandpass_filter(y, 10, 25, f_abt)) \n",
    "\n",
    "    ################# Stack to vector ####################\n",
    "    \n",
    "    features = np.array([])\n",
    "    features = np.append(features,\n",
    "                         [acl_DCMean_x, acl_DCMean_y, acl_DCMean_z, \n",
    "                          gy_DCMean_qs, gy_DCMean_qx, gy_DCMean_qy, \n",
    "                          gy_DCMean_qz,\n",
    "                          acl_DCTotalMean, gy_DCTotalMean, \n",
    "                          acl_DCArea, gy_DCArea,\n",
    "                          acl_DC_PostureDist_XZ, acl_DC_PostureDist_XY, \n",
    "                          acl_DC_PostureDist_YZ,\n",
    "                          gy_DC_PostureDist_qsqx, gy_DC_PostureDist_qxqy, \n",
    "                          gy_DC_PostureDist_qyqz, gy_DC_PostureDist_qzqs,\n",
    "                          acl_ACAbsMean_x, acl_ACAbsMean_y, acl_ACAbsMean_z, \n",
    "                          gy_ACAbsMean_qs, gy_ACAbsMean_qx, gy_ACAbsMean_qy, \n",
    "                          gy_ACAbsMean_qz,\n",
    "                          acl_ACAbsArea, gy_ACAbsArea,\n",
    "                          acl_ACSkew_x, acl_ACSkew_y, acl_ACSkew_z, \n",
    "                          gy_ACSkew_qs, gy_ACSkew_qx, gy_ACSkew_qy, \n",
    "                          gy_ACSkew_qz,\n",
    "                          acl_ACKur_x, acl_ACKur_y, acl_ACKur_z, \n",
    "                          gy_ACKur_qs, gy_ACKur_qx, gy_ACKur_qy, gy_ACKur_qz,\n",
    "                          acl_ACEnergy, gy_ACEnergy, acl_ACBandEnergy, \n",
    "                          gy_ACBandEnergy,\n",
    "                          acl_ACLowEnergy, gy_ACLowEnergy, \n",
    "                          acl_ACModVigEnergy, gy_ACModVigEnergy,\n",
    "                          acl_ACGesSpec1Energy, gy_ACGesSpec1Energy,\n",
    "                          acl_ACGesSpec2Energy, gy_ACGesSpec2Energy,\n",
    "                          acl_ACGesSpec3Energy, gy_ACGesSpec3Energy])\n",
    "    \n",
    "    \n",
    "    ########################### FFT - Features #############################\n",
    "    ###################### calculate fouier spectrum #######################\n",
    "    \n",
    "    acl_gy_fourier_spectrum = fourier_spec_signal(y, frame_size)[:30,:].reshape(1,-1)\n",
    "    features = np.append(features, acl_gy_fourier_spectrum)                    \n",
    "    \n",
    "    ######################### return feature vector ########################\n",
    "    \n",
    "    return features.reshape(1,-1)\n",
    "\n",
    "\n",
    "\n",
    "    #################### filter helper functions #################\n",
    "\n",
    "def bandpass_filter(y, f_cutoff_low, f_cutoff_high, f_abt):\n",
    "    \"\"\"\n",
    "    Returns a bandpass filtered signal\n",
    "    \n",
    "    args:\n",
    "        * y\n",
    "        * f_cutoff_low\n",
    "        * f_cutoff_high\n",
    "        * f_abt \n",
    "    \n",
    "    returns:\n",
    "        * bandpass_signal\n",
    "    \"\"\"\n",
    "    nyq = 0.5 * f_abt\n",
    "    low_cutoff = f_cutoff_low / nyq\n",
    "    high_cutoff = f_cutoff_high / nyq\n",
    "    \n",
    "    bandpass_signal = np.zeros(y.shape)\n",
    "\n",
    "    for i in range(y.shape[1]):\n",
    "            b, a = signal.butter(5, [low_cutoff, high_cutoff] , 'bandpass') \n",
    "            # Bandpass\n",
    "            bandpass_signal[:,i] = signal.filtfilt(b, a, y[:,i])\n",
    "    \n",
    "    return bandpass_signal\n",
    "\n",
    "def lowpass_filter(y, f_cutoff, f_abt):\n",
    "    \"\"\"\n",
    "    Returns a lowpass filtered signal\n",
    "    \n",
    "    args:\n",
    "        * y\n",
    "        * f_cutoff\n",
    "        * f_abt \n",
    "    \n",
    "    returns:\n",
    "        * lowpass_signal\n",
    "    \"\"\"\n",
    "    \n",
    "    nyq = 0.5 * f_abt\n",
    "    normal_cutoff = f_cutoff / nyq\n",
    "    \n",
    "    lowpass_signal = np.zeros(y.shape)\n",
    "    for i in range(y.shape[1]):\n",
    "        b, a = signal.butter(5, normal_cutoff , 'low') # Tiefpass\n",
    "        lowpass_signal[:,i] = signal.filtfilt(b, a, y[:,i])\n",
    "    \n",
    "    return lowpass_signal\n",
    "\n",
    "\n",
    "    ########### feature functions for calculation ###########\n",
    "\n",
    "\n",
    "def ACSkew(x):\n",
    "    '''(np.vector) --> float\n",
    "    \n",
    "    returns a measure of the peakedness of the accelerometer / \n",
    "    gyroscope signal over a given window\n",
    "    \n",
    "    args:\n",
    "    \n",
    "    returns:\n",
    "    \n",
    "    \n",
    "    '''\n",
    "    n = len(x)\n",
    "    \n",
    "    sum_numerator   = np.sum (np.power ((x - np.mean(x)), 3))\n",
    "    sum_denominator = np.sum (np.power ((x - np.mean(x)), 2))\n",
    "\n",
    "    return (np.sqrt(n) * sum_numerator) / (np.power(sum_denominator, 3/2))\n",
    "\n",
    "def ACKur(x):\n",
    "    '''(np.vector) --> float\n",
    "    \n",
    "    returns a measure of the peakedness of the accelerometer / gyroscope \n",
    "    signal over a given window or a measure of its relative flatness \n",
    "    as compared to the normal distribution.\n",
    "    \n",
    "    \n",
    "    args:\n",
    "    \n",
    "    returns:\n",
    "    \n",
    "    '''\n",
    "    n = len(x)\n",
    "    \n",
    "    sum_numerator   = np.sum (np.power ((x - np.mean(x)), 4))\n",
    "    sum_denominator = np.sum (np.power ((x - np.mean(x)), 2))\n",
    "\n",
    "    return (n * sum_numerator / (np.power(sum_denominator,2)))-3\n",
    "\n",
    "def calc_signal_energy(y, N = 140):\n",
    "    '''(np.array[140,7], [int]) --> np.array[30,7], np.array[40,7]\n",
    "    \n",
    "    returns the signal energy of the accelerometers and gyroscopes.\n",
    "    \n",
    "    \n",
    "    args:\n",
    "    \n",
    "    returns:\n",
    "    \n",
    "    '''\n",
    "    \n",
    "    yf = fft(y)\n",
    "    half_abs_yf = 2/N*np.abs(yf[0:N//2,:])\n",
    "    acl_energy = np.sum(half_abs_yf[:,0:3])\n",
    "    gy_energy = np.sum(half_abs_yf[:,3:7])\n",
    "    return acl_energy, gy_energy\n",
    "\n",
    "def fourier_spec_axis(y):\n",
    "    '''(np.array) -> np.array\n",
    "    calculates the fft spectrum of the signal and returns it.\n",
    "    \n",
    "    \n",
    "    args:\n",
    "    \n",
    "    returns:\n",
    "    \n",
    "    '''\n",
    "    N = len(y)\n",
    "    yf = fft(y)\n",
    "    half_abs_yf = 2/N*np.abs(yf[0:N//2])\n",
    "    return half_abs_yf\n",
    "\n",
    "def fourier_spec_signal(y, frame_size= 140):\n",
    "    '''(np.array, int) --> np.array\n",
    "\n",
    "    returns the standard scaled fourierspectrum (70,7) \n",
    "    of each vector (140,1) of the input signal matrix (140,7)\n",
    "    \n",
    "    \n",
    "    args:\n",
    "    \n",
    "    returns:\n",
    "    \n",
    "    '''\n",
    "    \n",
    "    fourier_spec = np.array([])\n",
    "    for i in range(y.shape[1]):\n",
    "        fourier_spec = np.append(fourier_spec, \n",
    "                                 fourier_spec_axis(y[:, i]))\n",
    "    fourier_spec = fourier_spec.reshape(frame_size//2, 7)\n",
    "    scaler = StandardScaler()\n",
    "    fourier_spec = scaler.fit_transform(fourier_spec)\n",
    "    return fourier_spec\n",
    "\n",
    "\n",
    "def ACVar(y):\n",
    "    '''(np.array[140,7]) --> np.array\n",
    "    \n",
    "    returns the signal's variance\n",
    "    \n",
    "    args:\n",
    "    \n",
    "    returns:\n",
    "    \n",
    "    '''\n",
    "    a = np.array([])\n",
    "    for i in range(y.shape[1]):\n",
    "        a = np.append(a, np.var(y[:,i]))\n",
    "    return a"
   ]
  },
  {
   "cell_type": "markdown",
   "metadata": {},
   "source": [
    "---"
   ]
  },
  {
   "cell_type": "code",
   "execution_count": 17,
   "metadata": {},
   "outputs": [],
   "source": [
    "X_train = preprocess_raw_data(X_train_raw, frame_size)\n",
    "X_test = preprocess_raw_data(X_test_raw , frame_size)"
   ]
  },
  {
   "cell_type": "markdown",
   "metadata": {},
   "source": [
    "### 1.3. Machine Learning"
   ]
  },
  {
   "cell_type": "markdown",
   "metadata": {},
   "source": [
    "In this chapter first various classifiers are tested against each other. Their scores are evaluated with a 10 fold cross validation score. The best classifier will be selected and its hyperparameters are fine tuned."
   ]
  },
  {
   "cell_type": "markdown",
   "metadata": {},
   "source": [
    "#### functions"
   ]
  },
  {
   "cell_type": "code",
   "execution_count": 18,
   "metadata": {},
   "outputs": [],
   "source": [
    "def cross_val(clf, X, y):\n",
    "    '''(clf, np.array, np.array) --> None\n",
    "    \n",
    "    calculates and prints a 10 fold crossval score.\n",
    "    \n",
    "    args:\n",
    "        * clf: trained classifer\n",
    "    '''\n",
    "    \n",
    "    scores = cross_val_score(clf, X, y, cv = 10)\n",
    "    print(clf.__class__.__name__, '--->',\"Crossval score Accuracy:  %0.2f (+/- %0.2f)\" % (scores.mean(), scores.std() * 2))\n",
    "    \n",
    "def train_clf_rf(X, y):\n",
    "    '''(np.array(n,980), np.array(n,), int, str) --> None\n",
    "\n",
    "    Trains a Random Forest Classifier on the preprocessed data\n",
    "    and returns the decision boundary functions\n",
    "    \n",
    "    \n",
    "    args:\n",
    "    \n",
    "    returns:\n",
    "    \n",
    "    '''\n",
    "    # define classifier\n",
    "    clf = RandomForestClassifier(bootstrap = True, max_depth = 30, max_features = 4, n_estimators = 250)\n",
    "    \n",
    "    # train classifier\n",
    "    clf.fit(X, y)\n",
    "\n",
    "    return clf"
   ]
  },
  {
   "cell_type": "markdown",
   "metadata": {},
   "source": [
    "---"
   ]
  },
  {
   "cell_type": "code",
   "execution_count": 19,
   "metadata": {
    "scrolled": false
   },
   "outputs": [
    {
     "name": "stdout",
     "output_type": "stream",
     "text": [
      "----------------------------------------------------------------------------------------------------\n",
      "KNeighborsClassifier ---> Crossval score Accuracy:  0.45 (+/- 0.29)\n",
      "----------------------------------------------------------------------------------------------------\n",
      "SVC ---> Crossval score Accuracy:  0.43 (+/- 0.20)\n",
      "----------------------------------------------------------------------------------------------------\n",
      "NuSVC ---> Crossval score Accuracy:  0.34 (+/- 0.23)\n",
      "----------------------------------------------------------------------------------------------------\n",
      "DecisionTreeClassifier ---> Crossval score Accuracy:  0.78 (+/- 0.17)\n",
      "----------------------------------------------------------------------------------------------------\n",
      "RandomForestClassifier ---> Crossval score Accuracy:  0.95 (+/- 0.15)\n",
      "----------------------------------------------------------------------------------------------------\n",
      "AdaBoostClassifier ---> Crossval score Accuracy:  0.25 (+/- 0.20)\n",
      "----------------------------------------------------------------------------------------------------\n",
      "GradientBoostingClassifier ---> Crossval score Accuracy:  0.79 (+/- 0.17)\n",
      "----------------------------------------------------------------------------------------------------\n",
      "GaussianNB ---> Crossval score Accuracy:  0.77 (+/- 0.18)\n",
      "----------------------------------------------------------------------------------------------------\n",
      "MLPClassifier ---> Crossval score Accuracy:  0.58 (+/- 0.29)\n",
      "----------------------------------------------------------------------------------------------------\n"
     ]
    }
   ],
   "source": [
    "X = preprocess_raw_data(X_raw, frame_size) # Preprocess entire Dataset for the 10 fold cross validation score.\n",
    "\n",
    "# Classifier selection\n",
    "classifiers = [\n",
    "                KNeighborsClassifier(), # ------------------ K-Nearest Neighbour         \n",
    "                SVC(), # ----------------------------------- Support Vector Machine                       \n",
    "                NuSVC(), # --------------------------------- Support Vector Machine\n",
    "                DecisionTreeClassifier(), # ---------------- Decision Tree Classifier\n",
    "                RandomForestClassifier(), # ---------------- Random Forest Classifier\n",
    "                AdaBoostClassifier(), # -------------------- AdaBoost Classifier\n",
    "                GradientBoostingClassifier(), # ------------ GradientBoostingClassifier\n",
    "                GaussianNB(), # ---------------------------- Gaussian Naive Bayes Classfier\n",
    "                MLPClassifier(learning_rate_init=0.15)] # -- Neural Network\n",
    "\n",
    "print('-'*100)\n",
    "\n",
    "for clf in classifiers:\n",
    "    \n",
    "    cross_val(clf, X, y) # calculate a 10-fold-cross-validation score and print it.\n",
    "    print('-'*100)"
   ]
  },
  {
   "cell_type": "markdown",
   "metadata": {},
   "source": [
    "The Random Forest Classifier works the best out of the box --> Algorithm of choice: Random Forest Classifier. The best hyperparameters for the Random Forest Classifier are chosen with the help of the GridSearchCV method from sklearn:\n",
    "\n",
    "__be careful: the GridSearch functions requires a long time to compute!!__ To evaluate it yourself just uncomment the regarding sections"
   ]
  },
  {
   "cell_type": "code",
   "execution_count": 10,
   "metadata": {
    "collapsed": true
   },
   "outputs": [
    {
     "data": {
      "text/plain": [
       "\"clf = RandomForestClassifier()\\n\\nparam_grid_1 = [{'n_estimators': [10,50,100,300], \\n               'max_depth'   : [10,20,30,50,100], \\n               'max_features': [5,10,30,50,70,100],\\n               'bootstrap'   : [True, False]}]\\n\\ngrid_search_1 = GridSearchCV(clf, param_grid_1, cv = 7)\\n\\ngrid_search_1.fit(X,y)\\nprint(grid_search_1.best_params_)\""
      ]
     },
     "execution_count": 10,
     "metadata": {},
     "output_type": "execute_result"
    }
   ],
   "source": [
    "# Iteration 1\n",
    "\"\"\"clf = RandomForestClassifier()\n",
    "\n",
    "param_grid_1 = [{'n_estimators': [10,50,100,300], \n",
    "               'max_depth'   : [10,20,30,50,100], \n",
    "               'max_features': [5,10,30,50,70,100],\n",
    "               'bootstrap'   : [True, False]}]\n",
    "\n",
    "grid_search_1 = GridSearchCV(clf, param_grid_1, cv = 7)\n",
    "\n",
    "grid_search_1.fit(X,y)\n",
    "print(grid_search_1.best_params_)\"\"\""
   ]
  },
  {
   "cell_type": "markdown",
   "metadata": {},
   "source": [
    "All hyperparameter suggestions are at the edge of the provided values --> More tuning necessary --> param_grid_2"
   ]
  },
  {
   "cell_type": "code",
   "execution_count": 11,
   "metadata": {
    "collapsed": true
   },
   "outputs": [
    {
     "data": {
      "text/plain": [
       "\"param_grid_2 = [{'n_estimators': [300,500,1000], \\n                 'max_depth'   : [100,200,300], \\n                 'max_features': [3,4,5],\\n                 'bootstrap'   : [True]}]\\n\\ngrid_search_2 = GridSearchCV(clf, param_grid_2, cv = 7)\\ngrid_search_2.fit(X,y)\\nprint(grid_search_2.best_params_)\""
      ]
     },
     "execution_count": 11,
     "metadata": {},
     "output_type": "execute_result"
    }
   ],
   "source": [
    "# Iteration 2\n",
    "\"\"\"param_grid_2 = [{'n_estimators': [300,500,1000], \n",
    "                 'max_depth'   : [100,200,300], \n",
    "                 'max_features': [3,4,5],\n",
    "                 'bootstrap'   : [True]}]\n",
    "\n",
    "grid_search_2 = GridSearchCV(clf, param_grid_2, cv = 7)\n",
    "grid_search_2.fit(X,y)\n",
    "print(grid_search_2.best_params_)\"\"\""
   ]
  },
  {
   "cell_type": "code",
   "execution_count": 12,
   "metadata": {
    "collapsed": true
   },
   "outputs": [
    {
     "data": {
      "text/plain": [
       "\"param_grid_3 = [{'n_estimators': [100, 200, 250], \\n                 'max_depth'   : [10,30,50,70,100], \\n                 'max_features': [4],\\n                 'bootstrap'   : [True]}]\\n\\ngrid_search_3 = GridSearchCV(clf, param_grid_3, cv = 7)\\ngrid_search_3.fit(X,y)\\nprint(grid_search_3.best_params_)\""
      ]
     },
     "execution_count": 12,
     "metadata": {},
     "output_type": "execute_result"
    }
   ],
   "source": [
    "# Iteration 3\n",
    "\"\"\"param_grid_3 = [{'n_estimators': [100, 200, 250], \n",
    "                 'max_depth'   : [10,30,50,70,100], \n",
    "                 'max_features': [4],\n",
    "                 'bootstrap'   : [True]}]\n",
    "\n",
    "grid_search_3 = GridSearchCV(clf, param_grid_3, cv = 7)\n",
    "grid_search_3.fit(X,y)\n",
    "print(grid_search_3.best_params_)\"\"\""
   ]
  },
  {
   "cell_type": "markdown",
   "metadata": {},
   "source": [
    "output: ``` grid_search_3.best_params_: {'bootstrap': True, 'max_depth': 30, 'max_features': 4, 'n_estimators': 250} ```\n",
    "\n",
    "Therefore the final hyperparameter selection is obtained and implemented in a function - see Machine Learning: functions train_clf_rf"
   ]
  },
  {
   "cell_type": "markdown",
   "metadata": {},
   "source": [
    "### 1.4. Graphical Evaluation\n",
    "This section displays an Accuracy Score on the single train-test split, aswell as a confusion matrix. The confusion matrix is exspecially helpful to detect gestures, that are difficult to detect and which therefore need to be modified."
   ]
  },
  {
   "cell_type": "markdown",
   "metadata": {},
   "source": [
    "#### functions"
   ]
  },
  {
   "cell_type": "code",
   "execution_count": 13,
   "metadata": {},
   "outputs": [],
   "source": [
    "def cf_matrix(clf, X_test, y_test):\n",
    "    '''\n",
    "    (clf, np.array, np.array, str) --> None\n",
    "    \n",
    "    plots a heatmap of the confusion matrix of the current train-test-split.\n",
    "    \n",
    "    \n",
    "    args:\n",
    "    \n",
    "    returns:\n",
    "    \n",
    "    '''\n",
    "    label = np.unique([y_test])\n",
    "    \n",
    "    # make prediction\n",
    "    y_pred = clf.predict(X_test)\n",
    "    \n",
    "    # confusion matrix\n",
    "    cm = confusion_matrix(y_test, y_pred, label)\n",
    "    \n",
    "    plt.figure(figsize = (7,5.5))\n",
    "    pal = sn.diverging_palette(220, 20, n=7, as_cmap = True)\n",
    "    \n",
    "    df_cm = pd.DataFrame(cm, index = [i for i in label], columns = [i for i in label])\n",
    "    ax = sn.heatmap(df_cm, annot=True, cmap = pal, square=True, fmt = 'g')\n",
    "    ax.set(xlabel='Predicted values', ylabel='True values')\n",
    "    \n",
    "\n",
    "def clf_acc(clf, X_test, y_test):\n",
    "    '''(clf, np.array, np.array) --> None\n",
    "    \n",
    "    Prints the accuracy score for the current train-test-split\n",
    "    \n",
    "    \n",
    "    args:\n",
    "    \n",
    "    returns:\n",
    "    \n",
    "    '''\n",
    "    \n",
    "    y_pred = clf.predict(X_test)\n",
    "    acc = accuracy_score(y_test, y_pred)\n",
    "    print ('accuracy of the current Train_test-split' , acc)"
   ]
  },
  {
   "cell_type": "markdown",
   "metadata": {},
   "source": [
    "##### Confusion Matrix; Accuracy score"
   ]
  },
  {
   "cell_type": "code",
   "execution_count": 14,
   "metadata": {},
   "outputs": [
    {
     "name": "stdout",
     "output_type": "stream",
     "text": [
      "----------------------------------------------------------------------------------------------------\n",
      "accuracy of the current Train_test-split 0.9743589743589743\n",
      "----------------------------------------------------------------------------------------------------\n",
      "RandomForestClassifier ---> Crossval score Accuracy:  0.99 (+/- 0.05)\n",
      "----------------------------------------------------------------------------------------------------\n"
     ]
    },
    {
     "data": {
      "image/png": "[encoded data removed]",
      "text/plain": [
       "<matplotlib.figure.Figure at 0x7eff317b0f98>"
      ]
     },
     "metadata": {},
     "output_type": "display_data"
    }
   ],
   "source": [
    "clf = train_clf_rf(X_train,y_train) # Train the classifier on a single train-test split\n",
    "\n",
    "cf_matrix(clf, X_test, y_test) # Confusion Matrix\n",
    "print('-' * 100)\n",
    "clf_acc(clf, X_test, y_test) # Accuracy Score (single train-test split)\n",
    "print('-' * 100)\n",
    "cross_val(clf, X, y) # 10-fold-cross-valiadation score\n",
    "print('-' * 100)"
   ]
  },
  {
   "cell_type": "markdown",
   "metadata": {},
   "source": [
    "# 5. Summary\n",
    "Here the whole Code is executed at once - for your comfort ;)"
   ]
  },
  {
   "cell_type": "code",
   "execution_count": 23,
   "metadata": {},
   "outputs": [
    {
     "name": "stdout",
     "output_type": "stream",
     "text": [
      "accuracy of the current Train_test-split 0.9487179487179487\n",
      "RandomForestClassifier ---> Crossval score Accuracy:  0.98 (+/- 0.06)\n"
     ]
    },
    {
     "data": {
      "image/png": "[encoded data removed]",
      "text/plain": [
       "<matplotlib.figure.Figure at 0x7eff21eca9b0>"
      ]
     },
     "metadata": {},
     "output_type": "display_data"
    }
   ],
   "source": [
    "# 1. Get Data\n",
    "\n",
    "# selectable datasets:\n",
    "# User 1: 'User_1_1_011017', 'User_1_2_011017', 'User_1_3_121017' \n",
    "# User 2: 'User_2_1_071017' \n",
    "# User 3: 'User_3_1_131017', 'User_3_2_131017'\n",
    "# User 4: 'User_4_1_150917'\n",
    "\n",
    "path = os.getcwd() + '/data/' + 'User_1_2_011017' # -- change User_x_x_xxxxxx for different dataset\n",
    "X_raw,y = get_datasets(path) # ----------------------- Function loads the data and the labels\n",
    "frame_size = 140 # ----------------------------------- 1.4 seconds recording window\n",
    "\n",
    "# split dataset into random Train and Test Data\n",
    "X_train_raw, X_test_raw, y_train, y_test = train_test_split(X_raw, y, test_size=0.3) \n",
    "\n",
    "# 2. Preprocess Data\n",
    "X_train = preprocess_raw_data(X_train_raw, frame_size)\n",
    "X_test = preprocess_raw_data(X_test_raw , frame_size)\n",
    "\n",
    "# 3,4 Machine Learning and Evaluation\n",
    "# train classifier for single train-test split\n",
    "trained_clf = train_clf_rf(X_train,y_train) # Train the classifier on a single train-test split\n",
    "cf_matrix(trained_clf, X_test, y_test) # Confusion Matrix\n",
    "clf_acc(trained_clf, X_test, y_test) # Accuracy Score (single train-test split)\n",
    "\n",
    "# cross valiation score\n",
    "clf_rf = RandomForestClassifier(bootstrap = True, max_depth = 30, max_features = 4, n_estimators = 250)\n",
    "X = preprocess_raw_data(X_raw, frame_size) # Preprocess entire Dataset for the 10 fold cross validation score.\n",
    "cross_val(clf_rf, X, y) # 10-fold-cross-valiadation score"
   ]
  },
  {
   "cell_type": "code",
   "execution_count": null,
   "metadata": {},
   "outputs": [],
   "source": []
  }
 ],
 "metadata": {
  "kernelspec": {
   "display_name": "Python 3",
   "language": "python",
   "name": "python3"
  },
  "language_info": {
   "codemirror_mode": {
    "name": "ipython",
    "version": 3
   },
   "file_extension": ".py",
   "mimetype": "text/x-python",
   "name": "python",
   "nbconvert_exporter": "python",
   "pygments_lexer": "ipython3",
   "version": "3.6.4"
  }
 },
 "nbformat": 4,
 "nbformat_minor": 2
}
