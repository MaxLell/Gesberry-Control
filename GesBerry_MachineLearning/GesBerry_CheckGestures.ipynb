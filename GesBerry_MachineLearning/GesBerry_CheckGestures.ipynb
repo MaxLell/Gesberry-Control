{
 "cells": [
  {
   "cell_type": "code",
   "execution_count": null,
   "metadata": {},
   "outputs": [],
   "source": [
    "# imports\n",
    "from GesBerry_eval import conf_matrix, clf_acc, cross_val, x_y_test, x_test"
   ]
  },
  {
   "cell_type": "code",
   "execution_count": null,
   "metadata": {},
   "outputs": [],
   "source": [
    "x_test('User_A1_011017') # Insert your own data"
   ]
  },
  {
   "cell_type": "code",
   "execution_count": null,
   "metadata": {},
   "outputs": [],
   "source": [
    "x_test('User_A1_011017') # Insert your own data"
   ]
  },
  {
   "cell_type": "code",
   "execution_count": null,
   "metadata": {},
   "outputs": [],
   "source": [
    "x_y_test('User_A1_011017', 'User_A2_011017') # Insert your own data"
   ]
  },
  {
   "cell_type": "code",
   "execution_count": null,
   "metadata": {},
   "outputs": [],
   "source": [
    "x_y_test('User_A1_011017', 'User_A2_011017') # Insert your own data"
   ]
  },
  {
   "cell_type": "markdown",
   "metadata": {},
   "source": [
    "1. `sudo su -` </b>\n",
    "2. `apt-get update` </b>\n",
    "3. `apt-get upgrade` </b>\n",
    "4. `pip3 install --upgrade pip` </b>\n",
    "5. `apt-get install python3-matplotlib` </b>\n",
    "6. `apt-get install python3-scipy` </b>\n",
    "7. `apt-get install libatlas-base-dev` </b>\n",
    "\n",
    "8. `reboot` </b>\n",
    "9. `sudo pip3 install seaborn, pandas, jupyter` </b>\n",
    "10. `sudo pip3 install -U scikit-learn` </b>\n",
    "11. `sudo apt-get clean` </b>\n"
   ]
  },
  {
   "cell_type": "code",
   "execution_count": null,
   "metadata": {},
   "outputs": [],
   "source": []
  }
 ],
 "metadata": {
  "kernelspec": {
   "display_name": "Python 3",
   "language": "python",
   "name": "python3"
  },
  "language_info": {
   "codemirror_mode": {
    "name": "ipython",
    "version": 3
   },
   "file_extension": ".py",
   "mimetype": "text/x-python",
   "name": "python",
   "nbconvert_exporter": "python",
   "pygments_lexer": "ipython3",
   "version": "3.6.4"
  }
 },
 "nbformat": 4,
 "nbformat_minor": 2
}
